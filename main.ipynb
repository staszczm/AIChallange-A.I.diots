{
 "cells": [
  {
   "cell_type": "code",
   "execution_count": 4,
   "outputs": [],
   "source": [
    "from langchain.document_loaders.generic import GenericLoader\n",
    "from langchain.document_loaders.parsers import LanguageParser\n",
    "from langchain.text_splitter import Language\n",
    "from git import Repo\n",
    "from langchain.text_splitter import RecursiveCharacterTextSplitter\n",
    "from langchain.chains import ConversationalRetrievalChain\n",
    "from langchain.chat_models import ChatOpenAI\n",
    "from langchain.memory import ConversationSummaryMemory\n",
    "from langchain.embeddings.openai import OpenAIEmbeddings\n",
    "from langchain.vectorstores import Chroma\n",
    "from os import getenv\n",
    "\n",
    "api_key = 'key'"
   ],
   "metadata": {
    "collapsed": false,
    "ExecuteTime": {
     "end_time": "2023-12-09T17:00:07.618428100Z",
     "start_time": "2023-12-09T17:00:07.524070100Z"
    }
   },
   "id": "f6f7de5b026aff05"
  },
  {
   "cell_type": "code",
   "execution_count": 5,
   "id": "initial_id",
   "metadata": {
    "collapsed": true,
    "ExecuteTime": {
     "end_time": "2023-12-09T17:00:12.817803500Z",
     "start_time": "2023-12-09T17:00:09.546378400Z"
    }
   },
   "outputs": [
    {
     "ename": "GitCommandError",
     "evalue": "Cmd('git') failed due to: exit code(128)\n  cmdline: git clone -v -- https://github.com/staszczm/AIChallange-A.I.diots ./repo\n  stderr: 'fatal: destination path './repo' already exists and is not an empty directory.\n'",
     "output_type": "error",
     "traceback": [
      "\u001B[1;31m---------------------------------------------------------------------------\u001B[0m",
      "\u001B[1;31mGitCommandError\u001B[0m                           Traceback (most recent call last)",
      "Cell \u001B[1;32mIn[5], line 3\u001B[0m\n\u001B[0;32m      1\u001B[0m \u001B[38;5;66;03m# Clone\u001B[39;00m\n\u001B[0;32m      2\u001B[0m repo_path \u001B[38;5;241m=\u001B[39m \u001B[38;5;124m\"\u001B[39m\u001B[38;5;124m./repo\u001B[39m\u001B[38;5;124m\"\u001B[39m\n\u001B[1;32m----> 3\u001B[0m repo \u001B[38;5;241m=\u001B[39m Repo\u001B[38;5;241m.\u001B[39mclone_from(\u001B[38;5;124m\"\u001B[39m\u001B[38;5;124mhttps://github.com/staszczm/AIChallange-A.I.diots\u001B[39m\u001B[38;5;124m\"\u001B[39m, to_path\u001B[38;5;241m=\u001B[39mrepo_path)\n",
      "File \u001B[1;32m~\\anaconda3\\Lib\\site-packages\\git\\repo\\base.py:1328\u001B[0m, in \u001B[0;36mRepo.clone_from\u001B[1;34m(cls, url, to_path, progress, env, multi_options, allow_unsafe_protocols, allow_unsafe_options, **kwargs)\u001B[0m\n\u001B[0;32m   1326\u001B[0m \u001B[38;5;28;01mif\u001B[39;00m env \u001B[38;5;129;01mis\u001B[39;00m \u001B[38;5;129;01mnot\u001B[39;00m \u001B[38;5;28;01mNone\u001B[39;00m:\n\u001B[0;32m   1327\u001B[0m     git\u001B[38;5;241m.\u001B[39mupdate_environment(\u001B[38;5;241m*\u001B[39m\u001B[38;5;241m*\u001B[39menv)\n\u001B[1;32m-> 1328\u001B[0m \u001B[38;5;28;01mreturn\u001B[39;00m \u001B[38;5;28mcls\u001B[39m\u001B[38;5;241m.\u001B[39m_clone(\n\u001B[0;32m   1329\u001B[0m     git,\n\u001B[0;32m   1330\u001B[0m     url,\n\u001B[0;32m   1331\u001B[0m     to_path,\n\u001B[0;32m   1332\u001B[0m     GitCmdObjectDB,\n\u001B[0;32m   1333\u001B[0m     progress,\n\u001B[0;32m   1334\u001B[0m     multi_options,\n\u001B[0;32m   1335\u001B[0m     allow_unsafe_protocols\u001B[38;5;241m=\u001B[39mallow_unsafe_protocols,\n\u001B[0;32m   1336\u001B[0m     allow_unsafe_options\u001B[38;5;241m=\u001B[39mallow_unsafe_options,\n\u001B[0;32m   1337\u001B[0m     \u001B[38;5;241m*\u001B[39m\u001B[38;5;241m*\u001B[39mkwargs,\n\u001B[0;32m   1338\u001B[0m )\n",
      "File \u001B[1;32m~\\anaconda3\\Lib\\site-packages\\git\\repo\\base.py:1237\u001B[0m, in \u001B[0;36mRepo._clone\u001B[1;34m(cls, git, url, path, odb_default_type, progress, multi_options, allow_unsafe_protocols, allow_unsafe_options, **kwargs)\u001B[0m\n\u001B[0;32m   1234\u001B[0m     cmdline \u001B[38;5;241m=\u001B[39m remove_password_if_present(cmdline)\n\u001B[0;32m   1236\u001B[0m     log\u001B[38;5;241m.\u001B[39mdebug(\u001B[38;5;124m\"\u001B[39m\u001B[38;5;124mCmd(\u001B[39m\u001B[38;5;132;01m%s\u001B[39;00m\u001B[38;5;124m)\u001B[39m\u001B[38;5;124m'\u001B[39m\u001B[38;5;124ms unused stdout: \u001B[39m\u001B[38;5;132;01m%s\u001B[39;00m\u001B[38;5;124m\"\u001B[39m, cmdline, stdout)\n\u001B[1;32m-> 1237\u001B[0m     finalize_process(proc, stderr\u001B[38;5;241m=\u001B[39mstderr)\n\u001B[0;32m   1239\u001B[0m \u001B[38;5;66;03m# our git command could have a different working dir than our actual\u001B[39;00m\n\u001B[0;32m   1240\u001B[0m \u001B[38;5;66;03m# environment, hence we prepend its working dir if required\u001B[39;00m\n\u001B[0;32m   1241\u001B[0m \u001B[38;5;28;01mif\u001B[39;00m \u001B[38;5;129;01mnot\u001B[39;00m osp\u001B[38;5;241m.\u001B[39misabs(path):\n",
      "File \u001B[1;32m~\\anaconda3\\Lib\\site-packages\\git\\util.py:453\u001B[0m, in \u001B[0;36mfinalize_process\u001B[1;34m(proc, **kwargs)\u001B[0m\n\u001B[0;32m    451\u001B[0m \u001B[38;5;250m\u001B[39m\u001B[38;5;124;03m\"\"\"Wait for the process (clone, fetch, pull or push) and handle its errors accordingly\"\"\"\u001B[39;00m\n\u001B[0;32m    452\u001B[0m \u001B[38;5;66;03m# TODO: No close proc-streams??\u001B[39;00m\n\u001B[1;32m--> 453\u001B[0m proc\u001B[38;5;241m.\u001B[39mwait(\u001B[38;5;241m*\u001B[39m\u001B[38;5;241m*\u001B[39mkwargs)\n",
      "File \u001B[1;32m~\\anaconda3\\Lib\\site-packages\\git\\cmd.py:600\u001B[0m, in \u001B[0;36mGit.AutoInterrupt.wait\u001B[1;34m(self, stderr)\u001B[0m\n\u001B[0;32m    598\u001B[0m     errstr \u001B[38;5;241m=\u001B[39m read_all_from_possibly_closed_stream(p_stderr)\n\u001B[0;32m    599\u001B[0m     log\u001B[38;5;241m.\u001B[39mdebug(\u001B[38;5;124m\"\u001B[39m\u001B[38;5;124mAutoInterrupt wait stderr: \u001B[39m\u001B[38;5;132;01m%r\u001B[39;00m\u001B[38;5;124m\"\u001B[39m \u001B[38;5;241m%\u001B[39m (errstr,))\n\u001B[1;32m--> 600\u001B[0m     \u001B[38;5;28;01mraise\u001B[39;00m GitCommandError(remove_password_if_present(\u001B[38;5;28mself\u001B[39m\u001B[38;5;241m.\u001B[39margs), status, errstr)\n\u001B[0;32m    601\u001B[0m \u001B[38;5;28;01mreturn\u001B[39;00m status\n",
      "\u001B[1;31mGitCommandError\u001B[0m: Cmd('git') failed due to: exit code(128)\n  cmdline: git clone -v -- https://github.com/staszczm/AIChallange-A.I.diots ./repo\n  stderr: 'fatal: destination path './repo' already exists and is not an empty directory.\n'"
     ]
    }
   ],
   "source": [
    "# Clone\n",
    "repo_path = \"./repo\"\n",
    "repo = Repo.clone_from(\"https://github.com/staszczm/AIChallange-A.I.diots\", to_path=repo_path)"
   ]
  },
  {
   "cell_type": "code",
   "execution_count": 7,
   "outputs": [
    {
     "name": "stdout",
     "output_type": "stream",
     "text": [
      "67\n"
     ]
    }
   ],
   "source": [
    "# Load\n",
    "loader = GenericLoader.from_filesystem(\n",
    "    path=repo_path,\n",
    "    glob=\"**/*\",\n",
    "    suffixes=[\".py\"],\n",
    "    parser=LanguageParser(language=Language.PYTHON, parser_threshold=500),\n",
    ")\n",
    "documents = loader.load()\n",
    "print(len(documents))"
   ],
   "metadata": {
    "collapsed": false,
    "ExecuteTime": {
     "end_time": "2023-12-09T17:00:23.934219900Z",
     "start_time": "2023-12-09T17:00:23.479474600Z"
    }
   },
   "id": "13be3f1b1f8bbd29"
  },
  {
   "cell_type": "code",
   "execution_count": 8,
   "outputs": [
    {
     "name": "stdout",
     "output_type": "stream",
     "text": [
      "86\n"
     ]
    }
   ],
   "source": [
    "python_splitter = RecursiveCharacterTextSplitter.from_language(\n",
    "    language=Language.PYTHON, chunk_size=2000, chunk_overlap=200\n",
    ")\n",
    "texts = python_splitter.split_documents(documents)\n",
    "print(len(texts))"
   ],
   "metadata": {
    "collapsed": false,
    "ExecuteTime": {
     "end_time": "2023-12-09T17:00:25.937895500Z",
     "start_time": "2023-12-09T17:00:25.895334800Z"
    }
   },
   "id": "12cc4e27550b3515"
  },
  {
   "cell_type": "code",
   "execution_count": 9,
   "outputs": [],
   "source": [
    "db = Chroma.from_documents(texts, OpenAIEmbeddings(disallowed_special=(), openai_api_key=api_key))\n",
    "retriever = db.as_retriever(\n",
    "    search_type=\"mmr\",  # Also test \"similarity\"\n",
    "    search_kwargs={\"k\": 8},\n",
    ")"
   ],
   "metadata": {
    "collapsed": false,
    "ExecuteTime": {
     "end_time": "2023-12-09T17:00:37.122503300Z",
     "start_time": "2023-12-09T17:00:28.116324400Z"
    }
   },
   "id": "7c4ce5e41e623862"
  },
  {
   "cell_type": "code",
   "execution_count": 10,
   "outputs": [],
   "source": [
    "# Initialize LangChain with the OpenAI model\n",
    "lc = ChatOpenAI(\n",
    "    model_name='gpt-4-1106-preview',\n",
    "    openai_api_key = api_key,\n",
    ")   \n",
    "memory = ConversationSummaryMemory(\n",
    "    llm=lc, memory_key=\"chat_history\", return_messages=True\n",
    ")\n",
    "qa = ConversationalRetrievalChain.from_llm(lc, retriever=retriever, memory=memory)"
   ],
   "metadata": {
    "collapsed": false,
    "ExecuteTime": {
     "end_time": "2023-12-09T17:00:37.192528700Z",
     "start_time": "2023-12-09T17:00:37.133473900Z"
    }
   },
   "id": "9210ed85d4b6c632"
  },
  {
   "cell_type": "code",
   "execution_count": 11,
   "outputs": [
    {
     "data": {
      "text/plain": "\"I'm sorry, but the provided context does not contain any information about initializing a React agent. It seems to be related to a Django application, which is a Python web framework, and does not pertain to React, which is a JavaScript library for building user interfaces. If you need assistance with initializing a React component or setting up a React application, please provide the relevant context or ask a question regarding React specifically.\""
     },
     "execution_count": 11,
     "metadata": {},
     "output_type": "execute_result"
    }
   ],
   "source": [
    "question = \"How can I initialize a ReAct agent?\"\n",
    "result = qa(question)\n",
    "result[\"answer\"]"
   ],
   "metadata": {
    "collapsed": false,
    "ExecuteTime": {
     "end_time": "2023-12-09T17:00:51.910737700Z",
     "start_time": "2023-12-09T17:00:37.169590Z"
    }
   },
   "id": "aae18a747687bf61"
  },
  {
   "cell_type": "code",
   "execution_count": 12,
   "outputs": [
    {
     "data": {
      "text/plain": "'The context provided does not mention anything about a React agent or a React project. The provided code snippets and context are related to a Django web application. Django is a Python web framework used for building web applications. The code snippets indicate that the application likely pertains to a school management system, with models and views for handling academic sessions, terms, and site configurations.\\n\\nIf you are looking for information on how a React agent would be initialized within the context of a Django project, it would typically involve setting up a React frontend application that communicates with the Django backend through API endpoints. However, there is no mention of React or such an integration within the provided context.'"
     },
     "execution_count": 12,
     "metadata": {},
     "output_type": "execute_result"
    }
   ],
   "source": [
    "question = \"What is this project about?\"\n",
    "result = qa(question)\n",
    "result[\"answer\"]"
   ],
   "metadata": {
    "collapsed": false,
    "ExecuteTime": {
     "end_time": "2023-12-09T17:01:14.814136800Z",
     "start_time": "2023-12-09T17:00:51.915724Z"
    }
   },
   "id": "5988ca3896e0d93f"
  },
  {
   "cell_type": "code",
   "execution_count": 13,
   "outputs": [
    {
     "data": {
      "text/plain": "'Certainly! The provided code snippets come from a Django project, which appears to be for a school management system. Django is a high-level Python web framework that encourages rapid development and clean, pragmatic design. Here\\'s a detailed breakdown of the code and its purpose within the Django framework:\\n\\n1. Django Test:\\n   ```python\\n   from django.test import TestCase\\n   ```\\n   This import statement brings in Django\\'s TestCase class, which is a subclass of `unittest.TestCase` and is used for writing tests for Django applications.\\n\\n2. Django Forms:\\n   ```python\\n   from django.forms import inlineformset_factory, modelformset_factory\\n   ```\\n   These are functions that help create formsets associated with model instances. `inlineformset_factory` creates a formset that is connected to a parent model, while `modelformset_factory` creates a formset that is connected to a model.\\n\\n3. Model Formsets:\\n   ```python\\n   InvoiceItemFormset = inlineformset_factory(\\n       Invoice, InvoiceItem, fields=[\"description\", \"amount\"], extra=1, can_delete=True\\n   )\\n\\n   InvoiceReceiptFormSet = inlineformset_factory(\\n       Invoice,\\n       Receipt,\\n       fields=(\"amount_paid\", \"date_paid\", \"comment\"),\\n       extra=0,\\n       can_delete=True,\\n   )\\n\\n   Invoices = modelformset_factory(Invoice, exclude=(), extra=4)\\n   ```\\n   These formsets are related to the `Invoice`, `InvoiceItem`, and `Receipt` models. They define which fields should be included in the formsets and other settings like the number of additional forms to display (`extra`) and whether the user can delete forms (`can_delete`).\\n\\n4. Admin Registration:\\n   ```python\\n   from django.contrib import admin\\n   ```\\n   This is a standard import for working with the Django admin interface.\\n\\n5. Django Views:\\n   ```python\\n   from django.contrib.messages.views import SuccessMessageMixin\\n   from django.forms import widgets\\n   from django.shortcuts import render\\n   from django.urls import reverse_lazy\\n   from django.views.generic import DetailView, ListView\\n   from django.views.generic.edit import CreateView, DeleteView, UpdateView\\n   ```\\n   These imports bring in various classes and functions that help in creating views. The `SuccessMessageMixin` is used to display success messages. `DetailView`, `ListView`, `CreateView`, `DeleteView`, and `UpdateView` are generic views provided by Django to display detail pages, lists, and to handle creation, deletion, and updating of model instances, respectively.\\n\\n6. Staff Views:\\n   ```python\\n   class StaffListView(ListView):\\n       model = Staff\\n\\n   class StaffDetailView(DetailView):\\n       model = Staff\\n       template_name = \"staffs/staff_detail.html\"\\n\\n   class StaffCreateView(SuccessMessageMixin, CreateView):\\n       # ...\\n\\n   class StaffUpdateView(SuccessMessageMixin, UpdateView):\\n       # ...\\n\\n   class StaffDeleteView(DeleteView):\\n       model = Staff\\n       success_url = reverse_lazy(\"staff-list\")\\n   ```\\n   These are class-based views for managing `Staff` model instances. They handle the listing, detailed view, creation, updating, and deletion of staff records. The `SuccessMessageMixin` is used in `StaffCreateView` and `StaffUpdateView` to show a success message after a form submission.\\n\\n7. URL Configuration:\\n   ```python\\n   urlpatterns = [\\n       # ... other paths\\n       path(\"staff/\", include(\"apps.staffs.urls\")),\\n       # ... other paths\\n   ] + static(settings.MEDIA_URL, document_root=settings.MEDIA_ROOT)\\n   ```\\n   This code configures the URL patterns for the Django project. It includes paths for different apps within the project, such as `staff`, which is linked to the `apps.staffs.urls` module.\\n\\n8. Django\\'s Command-line Utility:\\n   ```python\\n   def main():\\n       # ...\\n\\n   if __name__ == \"__main__\":\\n       main()\\n   ```\\n   This is the entry point for Django\\'s command-line utility, which allows you to run administrative tasks such as starting the server, running migrations, and creating superusers.\\n\\n9. Models:\\n   The code snippets include several model definitions like `SiteConfig`, `AcademicSession`, `AcademicTerm`, `Subject`, and `StudentClass`. These models represent different entities within the school management system and are used to structure and manage data in the database.\\n\\n10. Migration:\\n   ```python\\n   class Migration(migrations.Migration):\\n       # ...\\n   ```\\n   This is an example of a Django database migration. Migrations are used to apply changes to the database schema—such as adding a field, creating a model, or altering a field—as defined by the models.\\n\\nThe code snippets provided appear to come from different parts of the Django application, including views, models, formsets, URL configurations, and migrations, and they collectively work together to create a functional web application for managing various aspects of a school system.'"
     },
     "execution_count": 13,
     "metadata": {},
     "output_type": "execute_result"
    }
   ],
   "source": [
    "question = \"Describe in details just the pieces of code that cover Django\"\n",
    "result = qa(question)\n",
    "result[\"answer\"]"
   ],
   "metadata": {
    "collapsed": false,
    "ExecuteTime": {
     "end_time": "2023-12-09T17:02:51.158463500Z",
     "start_time": "2023-12-09T17:01:14.805158500Z"
    }
   },
   "id": "ac23fe398a58bf4"
  },
  {
   "cell_type": "code",
   "execution_count": 14,
   "outputs": [
    {
     "name": "stdout",
     "output_type": "stream",
     "text": [
      "The provided code snippets and context show a basic Django web application for a school management system with several models like `Student`, `AcademicSession`, `AcademicTerm`, `Subject`, `StudentClass`, and `SiteConfig`. The web application also includes views for listing and detailing students, creating students, and managing site configurations and academic sessions/terms.\n",
      "\n",
      "To suggest improvements, we'll consider different aspects of the application:\n",
      "\n",
      "1. **User Experience (UX) and Design:**\n",
      "   - Improve the UI/UX design for better navigation and user engagement.\n",
      "   - Implement responsive design for mobile and tablet users.\n",
      "   - Provide a dashboard for a quick overview of key metrics (e.g., student count, outstanding fees).\n",
      "\n",
      "2. **Features and Functionality:**\n",
      "   - Add a module for attendance tracking.\n",
      "   - Integrate a gradebook for teachers to record and calculate students' grades.\n",
      "   - Implement a scheduling system for classes and exams.\n",
      "   - Add a communication platform for announcements, parent-teacher interactions, and student forums.\n",
      "\n",
      "3. **Security Enhancements:**\n",
      "   - Periodically review and update the authentication and permission system to ensure only authorized users access sensitive data.\n",
      "   - Implement two-factor authentication for critical actions (e.g., grade submissions, financial transactions).\n",
      "   - Regularly update the Django framework and dependencies to the latest versions for security patches.\n",
      "\n",
      "4. **Performance Optimization:**\n",
      "   - Analyze queries and use Django's database optimization tools like `select_related` and `prefetch_related` to reduce query counts.\n",
      "   - Implement caching for static assets and frequently accessed data.\n",
      "   - Consider using a more scalable database if the SQLite3 database becomes a bottleneck.\n",
      "\n",
      "5. **Data Management and Reporting:**\n",
      "   - Provide advanced reporting features for academic performance, financial reports, and other statistics.\n",
      "   - Implement data export options in various formats (CSV, Excel, PDF) for different reports.\n",
      "   - Allow bulk import and export of student and teacher data to streamline data management.\n",
      "\n",
      "6. **Customization and Configuration:**\n",
      "   - Make it easier for administrators to customize aspects of the application without diving into the code (e.g., academic year start/end dates, grading scales).\n",
      "   - Extend the `SiteConfig` model to support different types of configuration values beyond `CharField`.\n",
      "\n",
      "7. **Accessibility:**\n",
      "   - Ensure the application complies with accessibility standards to cater to users with disabilities.\n",
      "   - Use ARIA labels and roles where appropriate and ensure keyboard navigation throughout the site.\n",
      "\n",
      "8. **Testing and Quality Assurance:**\n",
      "   - Develop a comprehensive suite of tests (unit, integration, and end-to-end) to ensure application reliability.\n",
      "   - Set up continuous integration/continuous deployment (CI/CD) pipelines for automated testing and deployment.\n",
      "\n",
      "9. **Documentation and Help:**\n",
      "   - Provide thorough documentation for the system, including user manuals and technical documentation for future developers.\n",
      "   - Implement a help section or FAQ for common user queries.\n",
      "\n",
      "10. **Internationalization and Localization:**\n",
      "    - If the school has an international presence, consider supporting multiple languages and locale-specific settings.\n",
      "\n",
      "Each improvement should be carefully planned and tested to ensure it aligns with the school's needs and doesn't introduce new issues. It's also important to prioritize changes based on the resources available and the impact they will have on the school's operations.\n"
     ]
    }
   ],
   "source": [
    "question = (\"Do you have any idea on how to improve this project?\")\n",
    "result = qa(question)\n",
    "print(f\"\"\"{result[\"answer\"]}\"\"\")"
   ],
   "metadata": {
    "collapsed": false,
    "ExecuteTime": {
     "end_time": "2023-12-09T17:03:57.614216600Z",
     "start_time": "2023-12-09T17:02:51.161454100Z"
    }
   },
   "id": "ea355986a929af9f"
  }
 ],
 "metadata": {
  "kernelspec": {
   "display_name": "Python 3",
   "language": "python",
   "name": "python3"
  },
  "language_info": {
   "codemirror_mode": {
    "name": "ipython",
    "version": 2
   },
   "file_extension": ".py",
   "mimetype": "text/x-python",
   "name": "python",
   "nbconvert_exporter": "python",
   "pygments_lexer": "ipython2",
   "version": "2.7.6"
  }
 },
 "nbformat": 4,
 "nbformat_minor": 5
}
