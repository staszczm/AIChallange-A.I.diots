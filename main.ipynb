{
 "cells": [
  {
   "cell_type": "code",
   "execution_count": 17,
   "outputs": [],
   "source": [
    "from langchain.document_loaders.generic import GenericLoader\n",
    "from langchain.document_loaders.parsers import LanguageParser\n",
    "from langchain.text_splitter import Language, RecursiveCharacterTextSplitter\n",
    "from langchain.chains import ConversationalRetrievalChain\n",
    "from langchain.chat_models import ChatOpenAI\n",
    "from langchain.memory import ConversationSummaryMemory\n",
    "from langchain.embeddings.openai import OpenAIEmbeddings\n",
    "from langchain.vectorstores import Chroma\n",
    "from langchain.callbacks import get_openai_callback\n",
    "from tiktoken import get_encoding\n",
    "from os import getenv, path\n",
    "from git import Repo"
   ],
   "metadata": {
    "collapsed": false,
    "ExecuteTime": {
     "end_time": "2023-12-10T11:52:36.295810100Z",
     "start_time": "2023-12-10T11:52:36.274940600Z"
    }
   },
   "id": "f6f7de5b026aff05"
  },
  {
   "cell_type": "code",
   "execution_count": 2,
   "outputs": [],
   "source": [
    "# Retrieving an API key from environmental variable\n",
    "api_key = getenv('API')\n",
    "if api_key is None:\n",
    "    raise ValueError(\"Environmental variable `API` doesn't contain the API key!\")"
   ],
   "metadata": {
    "collapsed": false,
    "ExecuteTime": {
     "end_time": "2023-12-10T11:34:51.688964500Z",
     "start_time": "2023-12-10T11:34:51.680979300Z"
    }
   },
   "id": "30611ebaed87c6bd"
  },
  {
   "cell_type": "code",
   "execution_count": 3,
   "id": "initial_id",
   "metadata": {
    "collapsed": true,
    "ExecuteTime": {
     "end_time": "2023-12-10T11:34:51.700682200Z",
     "start_time": "2023-12-10T11:34:51.685972Z"
    }
   },
   "outputs": [],
   "source": [
    "# Cloning the repository\n",
    "repo_path = \"./repo\"\n",
    "if not path.exists(repo_path):\n",
    "    repo = Repo.clone_from(\"https://github.com/staszczm/AIChallange-A.I.diots\", to_path=repo_path)"
   ]
  },
  {
   "cell_type": "code",
   "execution_count": 4,
   "outputs": [],
   "source": [
    "# Loading the repository\n",
    "loader = GenericLoader.from_filesystem(\n",
    "    path=repo_path,\n",
    "    glob=\"**/*\",  # Recursively find all files within given repo\n",
    "    suffixes=[\".py\"],  # Search for Python code files\n",
    "    parser=LanguageParser(language=Language.PYTHON, parser_threshold=250),\n",
    ")\n",
    "documents = loader.load()"
   ],
   "metadata": {
    "collapsed": false,
    "ExecuteTime": {
     "end_time": "2023-12-10T11:34:51.795041400Z",
     "start_time": "2023-12-10T11:34:51.698687500Z"
    }
   },
   "id": "13be3f1b1f8bbd29"
  },
  {
   "cell_type": "code",
   "execution_count": 5,
   "outputs": [],
   "source": [
    "# Splitting the files into smaller chunks\n",
    "python_splitter = RecursiveCharacterTextSplitter.from_language(\n",
    "    language=Language.PYTHON, chunk_size=2000, chunk_overlap=200\n",
    ")\n",
    "texts = python_splitter.split_documents(documents)"
   ],
   "metadata": {
    "collapsed": false,
    "ExecuteTime": {
     "end_time": "2023-12-10T11:34:51.804970600Z",
     "start_time": "2023-12-10T11:34:51.798981300Z"
    }
   },
   "id": "12cc4e27550b3515"
  },
  {
   "cell_type": "code",
   "execution_count": 25,
   "outputs": [
    {
     "name": "stdout",
     "output_type": "stream",
     "text": [
      "Tokens: 20440\n",
      "Price: 0.008176000000000001\n"
     ]
    }
   ],
   "source": [
    "def num_tokens_from_string(string: str, encoding_name: str) -> int:\n",
    "    \"\"\"Returns the number of tokens in a text string.\"\"\"\n",
    "    encoding = get_encoding(encoding_name)\n",
    "    num_tokens = len(encoding.encode(string))\n",
    "    return num_tokens\n",
    "\n",
    "tokens = 0\n",
    "for text in texts:\n",
    "    tokens += num_tokens_from_string(str(text), \"cl100k_base\") \n",
    "print(\"Tokens: \" + str(tokens))\n",
    "\n",
    "price = tokens * 0.0004 / 1000\n",
    "print(\"Price: \" + str(price))"
   ],
   "metadata": {
    "collapsed": false,
    "ExecuteTime": {
     "end_time": "2023-12-10T12:00:05.695388600Z",
     "start_time": "2023-12-10T12:00:05.647430200Z"
    }
   },
   "id": "b287d5fdc5ffc080"
  },
  {
   "cell_type": "code",
   "execution_count": 6,
   "outputs": [],
   "source": [
    "# Adding split files into embedding database and defining what it returns\n",
    "db = Chroma.from_documents(texts, OpenAIEmbeddings(openai_api_key=api_key))\n",
    "retriever = db.as_retriever(\n",
    "    search_type=\"mmr\",  # Maximal Marginal Relevance\n",
    "    search_kwargs={\"k\": 10},  # Return the top 10 matches\n",
    ")"
   ],
   "metadata": {
    "collapsed": false,
    "ExecuteTime": {
     "end_time": "2023-12-10T11:34:55.634145400Z",
     "start_time": "2023-12-10T11:34:51.802975Z"
    }
   },
   "id": "7c4ce5e41e623862"
  },
  {
   "cell_type": "code",
   "execution_count": 7,
   "outputs": [],
   "source": [
    "# Initialize LangChain with the OpenAI model\n",
    "lc = ChatOpenAI(\n",
    "    model_name='gpt-4-1106-preview',  # Alternative options ['gpt-4-1106-preview', 'gpt-3.5-turbo-1106']\n",
    "    openai_api_key = api_key,\n",
    ")   "
   ],
   "metadata": {
    "collapsed": false,
    "ExecuteTime": {
     "end_time": "2023-12-10T11:34:55.644474200Z",
     "start_time": "2023-12-10T11:34:55.637141300Z"
    }
   },
   "id": "9210ed85d4b6c632"
  },
  {
   "cell_type": "code",
   "execution_count": 8,
   "outputs": [],
   "source": [
    "# Memorising the context of previous messages\n",
    "memory = ConversationSummaryMemory(\n",
    "    llm=lc, memory_key=\"chat_history\", return_messages=True\n",
    ")\n",
    "qa = ConversationalRetrievalChain.from_llm(lc, retriever=retriever, memory=memory)"
   ],
   "metadata": {
    "collapsed": false,
    "ExecuteTime": {
     "end_time": "2023-12-10T11:34:55.662700400Z",
     "start_time": "2023-12-10T11:34:55.644474200Z"
    }
   },
   "id": "ff8368df5e9c79cd"
  },
  {
   "cell_type": "code",
   "execution_count": 9,
   "outputs": [
    {
     "name": "stdout",
     "output_type": "stream",
     "text": [
      "I don't know the specific nature and objectives of the project beyond what the provided context suggests. However, based on the code snippets, it seems to be a Django-based web application related to an educational institution, where various models and views are defined to handle operations around academic sessions, terms, students, classes, subjects, and financial transactions like invoices and receipts.\n",
      "\n",
      "Here are some inferred functionalities from the provided context:\n",
      "\n",
      "1. **Academic Session and Term Management**: The application allows for the creation and management of academic sessions and terms, including setting a current session and term.\n",
      "\n",
      "2. **Student Management**: It includes features to list, view details, create, and update student records. There is a mention of a `StudentBulkUpload`, which suggests functionality to upload multiple student records at once, although the details of this functionality are not provided.\n",
      "\n",
      "3. **Class and Subject Management**: The system allows for the creation and deletion of classes and subjects. There are views to list subjects and a form to add new subjects.\n",
      "\n",
      "4. **Financial Transactions**: The application manages financial records, with models like `Invoice` and `Receipt`, indicating that it likely handles billing, payments, and tracking financial history for students.\n",
      "\n",
      "5. **Result Creation**: There is a mention of a `create_result` view, which implies that the application might also be responsible for generating and managing student academic results.\n",
      "\n",
      "The objectives of the project, as can be inferred, are likely to provide a comprehensive school management system that handles academic and financial administration tasks, streamlining operations for the educational institution. It appears to be a tool for staff members to manage information about academic terms, students, classes, subjects, and financial transactions securely and efficiently. The use of `LoginRequiredMixin` across various views suggests a focus on security and access control, ensuring that only authorized users can access and manipulate the data.\n",
      "Tokens Used: 3041\n",
      "\tPrompt Tokens: 2571\n",
      "\tCompletion Tokens: 470\n",
      "Successful Requests: 3\n",
      "Total Cost (USD): $0.03981\n"
     ]
    }
   ],
   "source": [
    "# Example prompt\n",
    "with get_openai_callback() as cb:\n",
    "    question = \"What is this project about?\"\n",
    "    result = qa(question)\n",
    "    print(f\"{result['answer']}\")\n",
    "    print(cb)"
   ],
   "metadata": {
    "collapsed": false,
    "ExecuteTime": {
     "end_time": "2023-12-10T11:35:21.182967Z",
     "start_time": "2023-12-10T11:34:55.654720200Z"
    }
   },
   "id": "5988ca3896e0d93f"
  },
  {
   "cell_type": "code",
   "execution_count": 10,
   "outputs": [
    {
     "name": "stdout",
     "output_type": "stream",
     "text": [
      "I don't have information on setting up a React agent from scratch in the provided context. However, I can explain the general steps to create a new React project from scratch:\n",
      "\n",
      "1. **Install Node.js and npm**: Before you can start working with React, you must have Node.js and npm (Node Package Manager) installed on your system. You can download them from [nodejs.org](https://nodejs.org/).\n",
      "\n",
      "2. **Create a New React App**: Use the `create-react-app` command-line utility which is the officially recommended way to create new React applications. To create a new app, run the following command in your terminal:\n",
      "\n",
      "   ```bash\n",
      "   npx create-react-app my-react-app\n",
      "   ```\n",
      "\n",
      "   Replace `my-react-app` with whatever you want to name your application.\n",
      "\n",
      "3. **Navigate to Your App Directory**: Once the installation is complete, navigate to your newly created app directory:\n",
      "\n",
      "   ```bash\n",
      "   cd my-react-app\n",
      "   ```\n",
      "\n",
      "4. **Start the Development Server**: Start the local development server to see your app:\n",
      "\n",
      "   ```bash\n",
      "   npm start\n",
      "   ```\n",
      "\n",
      "   This will open your default browser to `http://localhost:3000/` where you can see your new React app running.\n",
      "\n",
      "5. **Edit Your Application**: You can start editing your application by modifying files in the `src` folder. The entry point is usually `src/index.js`, and the main App component is in `src/App.js`.\n",
      "\n",
      "6. **Install Additional Packages**: If you need to include additional packages or libraries, you can install them using npm. For example:\n",
      "\n",
      "   ```bash\n",
      "   npm install axios\n",
      "   ```\n",
      "\n",
      "7. **Build Your App for Production**: When you are ready to deploy your application, you can create a production build by running:\n",
      "\n",
      "   ```bash\n",
      "   npm run build\n",
      "   ```\n",
      "\n",
      "   This will create a `build` directory with your compiled application.\n",
      "\n",
      "8. **Deployment**: Deploy your application to a hosting service of your choice. There are many options like Vercel, Netlify, GitHub Pages, etc.\n",
      "\n",
      "Please note that the steps above are quite basic and meant for setting up a new React project. There are many other considerations when working with React, such as state management, routing, and API calls, that you might need to account for depending on the complexity of your application.\n",
      "Tokens Used: 3139\n",
      "\tPrompt Tokens: 2516\n",
      "\tCompletion Tokens: 623\n",
      "Successful Requests: 3\n",
      "Total Cost (USD): $0.04385\n"
     ]
    }
   ],
   "source": [
    "# Example prompt\n",
    "with get_openai_callback() as cb:\n",
    "    question = \"How can I initialize a React agent?\"\n",
    "    result = qa(question)\n",
    "    print(f\"{result['answer']}\")\n",
    "    print(cb)"
   ],
   "metadata": {
    "collapsed": false,
    "ExecuteTime": {
     "end_time": "2023-12-10T11:35:59.719532100Z",
     "start_time": "2023-12-10T11:35:21.177950400Z"
    }
   },
   "id": "aae18a747687bf61"
  },
  {
   "cell_type": "code",
   "execution_count": 11,
   "outputs": [
    {
     "name": "stdout",
     "output_type": "stream",
     "text": [
      "Certainly! The Django code segments provided are fragments from an educational management web application. I'll describe each code segment and its purpose in the context of the application.\n",
      "\n",
      "### Models\n",
      "Models in Django are used to define the data structure. The models provided (`SiteConfig`, `AcademicSession`, `AcademicTerm`, `Subject`, `StudentClass`, `Student`, and `Invoice`) represent the various entities that are part of the educational management system.\n",
      "\n",
      "- `SiteConfig`: This model appears to store key-value pairs for site configuration settings.\n",
      "- `AcademicSession`: Represents an academic year or period.\n",
      "- `AcademicTerm`: Represents a term or semester within an `AcademicSession`.\n",
      "- `Subject`: Represents a subject or course taught in the school.\n",
      "- `StudentClass`: Represents the different classes or grades in the school.\n",
      "- `Student`: Not shown in the provided code, but it would typically represent the students.\n",
      "- `Invoice`: Not shown in the provided code, but likely represents billing information related to students.\n",
      "\n",
      "### Views\n",
      "Views handle the request-response cycle in a web application. The provided views are class-based views that handle different CRUD (Create, Read, Update, Delete) operations for the models.\n",
      "\n",
      "- `IndexView`, `SiteConfigView`, `SessionListView`, `SessionCreateView`, `SessionUpdateView`, `SessionDeleteView`, `TermListView`, `TermCreateView`, `TermUpdateView`, `TermDeleteView`, `ClassListView`, `ClassCreateView`, `ClassUpdateView`, `ClassDeleteView`, `SubjectListView`: These views are for listing, creating, updating, and deleting instances of their respective models. They all require the user to be logged in (`LoginRequiredMixin`) and some of them use `SuccessMessageMixin` to display success messages upon completion of an action.\n",
      "\n",
      "- `StudentListView`, `StudentDetailView`, `StudentCreateView`: These views specifically handle listing individual students, viewing details for a particular student, and creating new student records. The `StudentDetailView` also includes payment information from the `Invoice` model related to the student.\n",
      "\n",
      "### Forms\n",
      "Forms in Django are used for input validation and rendering HTML forms.\n",
      "\n",
      "- `SiteConfigForm`, `AcademicSessionForm`, `AcademicTermForm`, `SubjectForm`, `StudentClassForm`, `CurrentSessionForm`: These are form classes related to their respective models, used to create or update instances of models.\n",
      "\n",
      "### URLs\n",
      "URL configurations (`urlpatterns`) map URLs to views. The provided URL patterns are used to define the routes for the application's different pages.\n",
      "\n",
      "### Templates\n",
      "The `TEMPLATES` setting defines the directories where Django will look for HTML template files.\n",
      "\n",
      "### Static and Media Files\n",
      "The settings also include configuration for static files (like CSS, JavaScript, and images) and media files (like document uploads).\n",
      "\n",
      "### Admin\n",
      "Although not specified in detail, Django's admin site is usually used to manage the models through a web interface.\n",
      "\n",
      "### Management Command (`main`)\n",
      "The `main` function is the entry point for Django's command-line utility used for administrative tasks.\n",
      "\n",
      "### Tests\n",
      "A placeholder for test cases (`TestCase`), which would be used to write automated tests for the application.\n",
      "\n",
      "### Settings\n",
      "Settings like `DATABASES`, `AUTH_PASSWORD_VALIDATORS`, `LANGUAGE_CODE`, `TIME_ZONE`, `STATIC_URL`, `MEDIA_URL`, and others configure the application's behavior, such as database connection, password validation rules, localization, and paths for static and media files.\n",
      "\n",
      "### WSGI\n",
      "The `WSGI_APPLICATION` setting points to the WSGI application used to serve the site.\n",
      "\n",
      "Overall, these code segments represent a typical structure of a Django web application, with models defining the data, views handling the logic, forms handling data submission, and URLs mapping routes to views. The application's purpose is to manage various aspects of an educational institution, such as configuring site settings, managing academic sessions and terms, handling student information, and tracking financial transactions.\n",
      "Tokens Used: 4509\n",
      "\tPrompt Tokens: 3565\n",
      "\tCompletion Tokens: 944\n",
      "Successful Requests: 3\n",
      "Total Cost (USD): $0.06397\n"
     ]
    }
   ],
   "source": [
    "# Example prompt\n",
    "with get_openai_callback() as cb:\n",
    "    question = \"Describe in details just the pieces of code that cover Django\"\n",
    "    result = qa(question)\n",
    "    print(f\"{result['answer']}\")\n",
    "    print(cb)"
   ],
   "metadata": {
    "collapsed": false,
    "ExecuteTime": {
     "end_time": "2023-12-10T11:36:59.742675600Z",
     "start_time": "2023-12-10T11:35:59.719532100Z"
    }
   },
   "id": "ac23fe398a58bf4"
  },
  {
   "cell_type": "code",
   "execution_count": 12,
   "outputs": [
    {
     "name": "stdout",
     "output_type": "stream",
     "text": [
      "Based on the provided context, the Django educational management web application could be improved in several ways. Here are some suggestions:\n",
      "\n",
      "1. **User Experience and Interface Enhancements**:\n",
      "   - Improve the UI/UX with a modern, responsive design to ensure usability across various devices and screen sizes.\n",
      "   - Implement AJAX-based form submissions and page updates for a smoother user experience.\n",
      "\n",
      "2. **Security Updates**:\n",
      "   - Ensure regular updates to Django and its dependencies to patch vulnerabilities.\n",
      "   - Implement more robust user input validation to prevent SQL injection and XSS attacks.\n",
      "   - Use HTTPS to secure data in transit.\n",
      "\n",
      "3. **Performance Optimization**:\n",
      "   - Optimize queries to reduce database load and speed up page loading times.\n",
      "   - Implement caching for static assets and frequently accessed data.\n",
      "   - Use a CDN for serving static files to improve load times for users at different geographical locations.\n",
      "\n",
      "4. **Feature Expansion**:\n",
      "   - Integrate a more comprehensive reporting system for student performance analytics.\n",
      "   - Add a parent portal where parents can log in and view their child's academic progress.\n",
      "   - Incorporate a real-time chat or messaging system for communication between teachers, students, and parents.\n",
      "\n",
      "5. **Accessibility**:\n",
      "   - Ensure that the web application is accessible, following WCAG (Web Content Accessibility Guidelines) to cater to users with disabilities.\n",
      "\n",
      "6. **Internationalization and Localization**:\n",
      "   - Support multi-language interfaces to cater to users from non-English speaking regions.\n",
      "   - Adjust the time zone and date formats according to the user's locale.\n",
      "\n",
      "7. **Testing and Quality Assurance**:\n",
      "   - Expand test coverage with unit tests, integration tests, and end-to-end tests to ensure code reliability and easier maintenance.\n",
      "   - Implement continuous integration/continuous deployment (CI/CD) to automate testing and deployment processes.\n",
      "\n",
      "8. **Data Management and Backup**:\n",
      "   - Implement regular data backups and a disaster recovery plan.\n",
      "   - Consider using a more scalable database system if the current SQLite3 database doesn't meet performance requirements.\n",
      "\n",
      "9. **Customization and Extensibility**:\n",
      "   - Allow schools to customize certain aspects of the software, like logos, color schemes, and other branding elements.\n",
      "   - Develop a plugin system to allow schools to extend functionality without altering the core codebase.\n",
      "\n",
      "10. **Documentation and Support**:\n",
      "    - Provide comprehensive documentation for system administrators and end-users.\n",
      "    - Set up a support system or helpdesk for users to report issues or seek help.\n",
      "\n",
      "11. **Deployment and Hosting**:\n",
      "    - If not already done, consider deploying the application on a cloud platform to improve scalability and availability.\n",
      "    - Implement dockerization for easy deployment and scaling.\n",
      "\n",
      "12. **API Development**:\n",
      "    - Develop RESTful APIs to allow integration with other systems and third-party applications.\n",
      "\n",
      "13. **Mobile Application**:\n",
      "    - Consider developing a companion mobile app to give users an alternative way to interact with the system.\n",
      "\n",
      "14. **Feedback Mechanism**:\n",
      "    - Implement a system for collecting user feedback to inform future development priorities.\n",
      "\n",
      "By addressing these areas, the educational management web application can become more robust, user-friendly, and better suited to the evolving needs of its users.\n",
      "Tokens Used: 3829\n",
      "\tPrompt Tokens: 2989\n",
      "\tCompletion Tokens: 840\n",
      "Successful Requests: 3\n",
      "Total Cost (USD): $0.05509\n"
     ]
    }
   ],
   "source": [
    "# Example prompt\n",
    "with get_openai_callback() as cb:\n",
    "    question = \"Do you have any idea on how to improve this project?\"\n",
    "    result = qa(question)\n",
    "    print(f\"{result['answer']}\")\n",
    "    print(cb)"
   ],
   "metadata": {
    "collapsed": false,
    "ExecuteTime": {
     "end_time": "2023-12-10T11:37:52.081135500Z",
     "start_time": "2023-12-10T11:36:59.743671700Z"
    }
   },
   "id": "ea355986a929af9f"
  },
  {
   "cell_type": "code",
   "execution_count": 13,
   "outputs": [
    {
     "name": "stdout",
     "output_type": "stream",
     "text": [
      "The `models.py` file in the context of a Django-based educational management web application contains definitions for the database models which represent the various entities involved in the application. Based on the provided context, the models represent configurations, academic sessions, terms, subjects, classes, and students. Here's a breakdown of each model:\n",
      "\n",
      "1. `SiteConfig`: This model is designed to store site configuration settings with a `key` and `value` field. Each configuration setting is represented by a unique slug in the `key` field and its corresponding value in the `value` field.\n",
      "\n",
      "2. `AcademicSession`: This model represents an academic session (like 2020/2021). It has a `name` field, which must be unique, and a `current` boolean field to indicate whether this session is the current one. The `ordering` Meta class option orders records by descending session names.\n",
      "\n",
      "3. `AcademicTerm`: This model represents an academic term (like First Term, Second Term, etc.). It has a `name` field, which must be unique, and a `current` boolean field as well. The `ordering` Meta class option orders records by the term name.\n",
      "\n",
      "4. `Subject`: This model represents a subject taught in the school. It has a unique `name` field and uses the `ordering` Meta class option to order subjects alphabetically by name.\n",
      "\n",
      "5. `StudentClass`: This model represents the classes into which students are grouped (like Grade 1, Grade 2, etc.). It has a unique `name` field. The Meta class options define a verbose name, a plural verbose name, and order the records alphabetically by name.\n",
      "\n",
      "6. `Student`: This model represents the students. It includes fields for the student's status, registration number, name, gender, date of birth, class, date of admission, parent's mobile number, address, and other details. The `ordering` Meta class option orders students by surname, firstname, and other_name.\n",
      "\n",
      "7. `StudentBulkUpload`: This model is designed to handle bulk uploads of student data through CSV files. It includes a `date_uploaded` field that automatically sets the date and time of the upload, and a `csv_file` field to store the uploaded file.\n",
      "\n",
      "These models are the essential parts of an educational management system, allowing the application to store and manage data about the academic structure, subjects, classes, and student information.\n",
      "Tokens Used: 3843\n",
      "\tPrompt Tokens: 3132\n",
      "\tCompletion Tokens: 711\n",
      "Successful Requests: 3\n",
      "Total Cost (USD): $0.05265\n"
     ]
    }
   ],
   "source": [
    "# Example prompt\n",
    "with get_openai_callback() as cb: \n",
    "    question = \"Describe in details what file models.py contains\"\n",
    "    result = qa(question)\n",
    "    print(f\"{result['answer']}\")\n",
    "    print(cb)"
   ],
   "metadata": {
    "collapsed": false,
    "ExecuteTime": {
     "end_time": "2023-12-10T11:38:41.170012200Z",
     "start_time": "2023-12-10T11:37:52.084123300Z"
    }
   },
   "id": "fe4fcc684c7f442"
  },
  {
   "cell_type": "code",
   "execution_count": 14,
   "outputs": [
    {
     "name": "stdout",
     "output_type": "stream",
     "text": [
      "Certainly! Since the provided context already includes models like `Student`, `AcademicSession`, `AcademicTerm`, and `Subject`, along with some views for listing these records, we can enhance the functionality by adding a feature to calculate and record students' grades for different subjects in each term.\n",
      "\n",
      "First, we need to create a new model to store the grades, then we'll write a view to input the grades, and finally, we'll create a template to enter the grades through the web interface.\n",
      "\n",
      "1. Define a `Grade` model in `models.py`:\n",
      "\n",
      "```python\n",
      "class Grade(models.Model):\n",
      "    student = models.ForeignKey(Student, on_delete=models.CASCADE)\n",
      "    subject = models.ForeignKey(Subject, on_delete=models.CASCADE)\n",
      "    academic_term = models.ForeignKey(AcademicTerm, on_delete=models.CASCADE)\n",
      "    score = models.DecimalField(max_digits=5, decimal_places=2)\n",
      "\n",
      "    class Meta:\n",
      "        unique_together = ('student', 'subject', 'academic_term')\n",
      "\n",
      "    def __str__(self):\n",
      "        return f\"{self.student} - {self.subject} - {self.score}\"\n",
      "```\n",
      "\n",
      "2. Create a form for the `Grade` model in `forms.py`:\n",
      "\n",
      "```python\n",
      "from django import forms\n",
      "from .models import Grade\n",
      "\n",
      "class GradeForm(forms.ModelForm):\n",
      "    class Meta:\n",
      "        model = Grade\n",
      "        fields = ['student', 'subject', 'academic_term', 'score']\n",
      "```\n",
      "\n",
      "3. Create a view to add grades in `views.py`:\n",
      "\n",
      "```python\n",
      "class GradeCreateView(LoginRequiredMixin, SuccessMessageMixin, CreateView):\n",
      "    model = Grade\n",
      "    form_class = GradeForm\n",
      "    template_name = \"grades/grade_form.html\"\n",
      "    success_message = \"Grade successfully recorded.\"\n",
      "    success_url = reverse_lazy('grades-list')  # URL name for the list of grades\n",
      "\n",
      "    def form_valid(self, form):\n",
      "        # You can include any validation or modification before saving here\n",
      "        return super().form_valid(form)\n",
      "```\n",
      "\n",
      "4. Add a URL pattern for the `GradeCreateView` in `urls.py`:\n",
      "\n",
      "```python\n",
      "from django.urls import path\n",
      "from .views import GradeCreateView\n",
      "\n",
      "urlpatterns = [\n",
      "    # ... other URL patterns\n",
      "    path('grades/add/', GradeCreateView.as_view(), name='grades-add'),\n",
      "]\n",
      "```\n",
      "\n",
      "5. Create the template `grade_form.html` in the `grades/templates/grades` directory:\n",
      "\n",
      "```html\n",
      "{% extends \"base_generic.html\" %}\n",
      "\n",
      "{% block content %}\n",
      "  <h1>Add Grade</h1>\n",
      "  <form method=\"post\">\n",
      "    {% csrf_token %}\n",
      "    {{ form.as_p }}\n",
      "    <button type=\"submit\">Save</button>\n",
      "  </form>\n",
      "{% endblock %}\n",
      "```\n",
      "\n",
      "Now you have added a new feature to the educational management system where teachers can record students' grades for subjects in a particular term. This is just a basic implementation and would likely need more features like authentication, authorization, form validation, and error handling for a production environment.\n",
      "Tokens Used: 4099\n",
      "\tPrompt Tokens: 3363\n",
      "\tCompletion Tokens: 736\n",
      "Successful Requests: 3\n",
      "Total Cost (USD): $0.055709999999999996\n"
     ]
    }
   ],
   "source": [
    "# Example prompt\n",
    "with get_openai_callback() as cb:\n",
    "    question = \"Can you generate some Python code of new functionality that could be possibly added to this project?\"\n",
    "    result = qa(question)\n",
    "    print(f\"{result['answer']}\")\n",
    "    print(cb)"
   ],
   "metadata": {
    "collapsed": false,
    "ExecuteTime": {
     "end_time": "2023-12-10T11:39:24.915933200Z",
     "start_time": "2023-12-10T11:38:41.175991400Z"
    }
   },
   "id": "e462c7d3a8c1a78d"
  }
 ],
 "metadata": {
  "kernelspec": {
   "display_name": "Python 3",
   "language": "python",
   "name": "python3"
  },
  "language_info": {
   "codemirror_mode": {
    "name": "ipython",
    "version": 2
   },
   "file_extension": ".py",
   "mimetype": "text/x-python",
   "name": "python",
   "nbconvert_exporter": "python",
   "pygments_lexer": "ipython2",
   "version": "2.7.6"
  }
 },
 "nbformat": 4,
 "nbformat_minor": 5
}
